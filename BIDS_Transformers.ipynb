{
 "cells": [
  {
   "cell_type": "code",
   "execution_count": 1,
   "metadata": {
    "collapsed": true
   },
   "outputs": [],
   "source": [
    "import os\n",
    "import sys\n",
    "\n",
    "# BIDS Transformers imports\n",
    "from bids.grabbids import BIDSLayout\n",
    "from bidst.transformers import ROITransformer\n",
    "from bidst.transformers import SkullStrippingTransformer\n",
    "\n",
    "# Nipype example imports\n",
    "from nipype.interfaces.fsl import ExtractROI\n",
    "from nipype.interfaces.fsl import BET\n",
    "\n",
    "# Import for data removal\n",
    "from shutil import rmtree\n",
    "\n",
    "# Pipeline import\n",
    "from sklearn.pipeline import Pipeline\n"
   ]
  },
  {
   "cell_type": "markdown",
   "metadata": {},
   "source": [
    "## This is a very basic proof of concept of BIDS Transformers\n",
    "\n",
    "It implements two BIDS Transformers: one based on FSL ROI extractor and second based on FSL Skull Stripping. Source code can be found at https://github.com/neuro-ml/BIDSTransformers/blob/master/bidst/transformers.py"
   ]
  },
  {
   "cell_type": "markdown",
   "metadata": {},
   "source": [
    "\n",
    "## To run this notebook you will need the following:\n",
    "\n",
    "0. Clone this repository (https://github.com/neuro-ml/BIDSTransformers)\n",
    "1. Working Nipype installation (https://github.com/nipy/nipype, we tested this code on versions 0.12.1 and 0.13.0)\n",
    "2. PyBids package (https://github.com/INCF/pybids)\n",
    "3. Download data folder from one of the following links and put it into the folder /bidst/test/data"
   ]
  },
  {
   "cell_type": "markdown",
   "metadata": {},
   "source": [
    "Link 1: https://drive.google.com/drive/folders/0B6U5KQalulfAOXlHYkdIa25QbG8?usp=sharing\n",
    "\n",
    "Link 2: https://www.dropbox.com/sh/kh5vkp5s5n6eebh/AABejlvSqHV1HhFy91r9nrT8a?dl=0"
   ]
  },
  {
   "cell_type": "markdown",
   "metadata": {},
   "source": [
    "## BIDS Transformers Example"
   ]
  },
  {
   "cell_type": "code",
   "execution_count": 2,
   "metadata": {
    "collapsed": true
   },
   "outputs": [],
   "source": [
    "#project folder \n",
    "project_root = os.path.abspath('bidst/tests/data/ds114')\n",
    "\n",
    "if os.path.exists(project_root + '/derivatives'):\n",
    "    rmtree(project_root + '/derivatives')"
   ]
  },
  {
   "cell_type": "markdown",
   "metadata": {},
   "source": [
    "#### BIDS data structure before tranformations"
   ]
  },
  {
   "cell_type": "code",
   "execution_count": 3,
   "metadata": {},
   "outputs": [
    {
     "name": "stdout",
     "output_type": "stream",
     "text": [
      "\u001b[01;34mbidst/tests/data/ds114\u001b[00m\r\n",
      "├── dataset_description.json\r\n",
      "├── dwi.bval\r\n",
      "├── dwi.bvec\r\n",
      "├── \u001b[01;34msub-01\u001b[00m\r\n",
      "│   ├── \u001b[01;34mses-retest\u001b[00m\r\n",
      "│   │   └── \u001b[01;34mdwi\u001b[00m\r\n",
      "│   │       └── \u001b[01;31msub-01_ses-retest_dwi.nii.gz\u001b[00m\r\n",
      "│   └── \u001b[01;34mses-test\u001b[00m\r\n",
      "│       └── \u001b[01;34mdwi\u001b[00m\r\n",
      "│           └── \u001b[01;31msub-01_ses-test_dwi.nii.gz\u001b[00m\r\n",
      "├── \u001b[01;34msub-02\u001b[00m\r\n",
      "│   ├── \u001b[01;34mses-retest\u001b[00m\r\n",
      "│   │   └── \u001b[01;34mdwi\u001b[00m\r\n",
      "│   │       └── \u001b[01;31msub-02_ses-retest_dwi.nii.gz\u001b[00m\r\n",
      "│   └── \u001b[01;34mses-test\u001b[00m\r\n",
      "│       └── \u001b[01;34mdwi\u001b[00m\r\n",
      "│           └── \u001b[01;31msub-02_ses-test_dwi.nii.gz\u001b[00m\r\n",
      "├── \u001b[01;34msub-03\u001b[00m\r\n",
      "│   ├── \u001b[01;34mses-retest\u001b[00m\r\n",
      "│   │   └── \u001b[01;34mdwi\u001b[00m\r\n",
      "│   │       └── \u001b[01;31msub-03_ses-retest_dwi.nii.gz\u001b[00m\r\n",
      "│   └── \u001b[01;34mses-test\u001b[00m\r\n",
      "│       └── \u001b[01;34mdwi\u001b[00m\r\n",
      "│           └── \u001b[01;31msub-03_ses-test_dwi.nii.gz\u001b[00m\r\n",
      "├── task-covertverbgeneration_bold.json\r\n",
      "├── task-covertverbgeneration_events.tsv\r\n",
      "├── task-fingerfootlips_bold.json\r\n",
      "├── task-fingerfootlips_events.tsv\r\n",
      "├── task-linebisection_bold.json\r\n",
      "├── task-overtverbgeneration_bold.json\r\n",
      "├── task-overtverbgeneration_events.tsv\r\n",
      "├── task-overtwordrepetition_bold.json\r\n",
      "└── task-overtwordrepetition_events.tsv\r\n",
      "\r\n",
      "15 directories, 18 files\r\n"
     ]
    }
   ],
   "source": [
    "! tree 'bidst/tests/data/ds114'"
   ]
  },
  {
   "cell_type": "code",
   "execution_count": 4,
   "metadata": {
    "scrolled": false
   },
   "outputs": [
    {
     "data": {
      "text/plain": [
       "[('01', 'retest'), ('02', 'retest'), ('03', 'test')]"
      ]
     },
     "execution_count": 4,
     "metadata": {},
     "output_type": "execute_result"
    }
   ],
   "source": [
    "#users and sessions\n",
    "user_ids = [('01', 'retest'), ('02', 'retest'), ('03', 'test')]\n",
    "\n",
    "#ROI extractor transformer\n",
    "roi = ROITransformer(label='B0',\n",
    "                     basedir=project_root)\n",
    "\n",
    "#skull stripping transformer\n",
    "skull_str = SkullStrippingTransformer(basedir=project_root,\n",
    "                                      label='B0')\n",
    "#pipeline definition\n",
    "pp = Pipeline([('roi', roi),\n",
    "               ('bet', skull_str)])\n",
    "\n",
    "#pipeline execution\n",
    "pp.fit_transform(user_ids)"
   ]
  },
  {
   "cell_type": "markdown",
   "metadata": {},
   "source": [
    "#### BIDS data structure after tranformations\n",
    "\n",
    "Transformations were performed only for specified subjects and sessions  "
   ]
  },
  {
   "cell_type": "code",
   "execution_count": 5,
   "metadata": {},
   "outputs": [
    {
     "name": "stdout",
     "output_type": "stream",
     "text": [
      "\u001b[01;34mbidst/tests/data/ds114\u001b[00m\r\n",
      "├── dataset_description.json\r\n",
      "├── \u001b[01;34mderivatives\u001b[00m\r\n",
      "│   ├── \u001b[01;34mROITransformer\u001b[00m\r\n",
      "│   │   ├── \u001b[01;34mses-retest\u001b[00m\r\n",
      "│   │   │   └── \u001b[01;34mdwi\u001b[00m\r\n",
      "│   │   │       ├── \u001b[01;31msub-01_ses-retest_dwi_label-B0_roi.nii.gz\u001b[00m\r\n",
      "│   │   │       └── \u001b[01;31msub-02_ses-retest_dwi_label-B0_roi.nii.gz\u001b[00m\r\n",
      "│   │   └── \u001b[01;34mses-test\u001b[00m\r\n",
      "│   │       └── \u001b[01;34mdwi\u001b[00m\r\n",
      "│   │           └── \u001b[01;31msub-03_ses-test_dwi_label-B0_roi.nii.gz\u001b[00m\r\n",
      "│   └── \u001b[01;34mSkullStrippingTransformer\u001b[00m\r\n",
      "│       ├── \u001b[01;34mses-retest\u001b[00m\r\n",
      "│       │   └── \u001b[01;34mdwi\u001b[00m\r\n",
      "│       │       ├── \u001b[01;31msub-01_ses-retest_dwi_label-B0_brain.nii.gz\u001b[00m\r\n",
      "│       │       └── \u001b[01;31msub-02_ses-retest_dwi_label-B0_brain.nii.gz\u001b[00m\r\n",
      "│       └── \u001b[01;34mses-test\u001b[00m\r\n",
      "│           └── \u001b[01;34mdwi\u001b[00m\r\n",
      "│               └── \u001b[01;31msub-03_ses-test_dwi_label-B0_brain.nii.gz\u001b[00m\r\n",
      "├── dwi.bval\r\n",
      "├── dwi.bvec\r\n",
      "├── \u001b[01;34msub-01\u001b[00m\r\n",
      "│   ├── \u001b[01;34mses-retest\u001b[00m\r\n",
      "│   │   └── \u001b[01;34mdwi\u001b[00m\r\n",
      "│   │       └── \u001b[01;31msub-01_ses-retest_dwi.nii.gz\u001b[00m\r\n",
      "│   └── \u001b[01;34mses-test\u001b[00m\r\n",
      "│       └── \u001b[01;34mdwi\u001b[00m\r\n",
      "│           └── \u001b[01;31msub-01_ses-test_dwi.nii.gz\u001b[00m\r\n",
      "├── \u001b[01;34msub-02\u001b[00m\r\n",
      "│   ├── \u001b[01;34mses-retest\u001b[00m\r\n",
      "│   │   └── \u001b[01;34mdwi\u001b[00m\r\n",
      "│   │       └── \u001b[01;31msub-02_ses-retest_dwi.nii.gz\u001b[00m\r\n",
      "│   └── \u001b[01;34mses-test\u001b[00m\r\n",
      "│       └── \u001b[01;34mdwi\u001b[00m\r\n",
      "│           └── \u001b[01;31msub-02_ses-test_dwi.nii.gz\u001b[00m\r\n",
      "├── \u001b[01;34msub-03\u001b[00m\r\n",
      "│   ├── \u001b[01;34mses-retest\u001b[00m\r\n",
      "│   │   └── \u001b[01;34mdwi\u001b[00m\r\n",
      "│   │       └── \u001b[01;31msub-03_ses-retest_dwi.nii.gz\u001b[00m\r\n",
      "│   └── \u001b[01;34mses-test\u001b[00m\r\n",
      "│       └── \u001b[01;34mdwi\u001b[00m\r\n",
      "│           └── \u001b[01;31msub-03_ses-test_dwi.nii.gz\u001b[00m\r\n",
      "├── task-covertverbgeneration_bold.json\r\n",
      "├── task-covertverbgeneration_events.tsv\r\n",
      "├── task-fingerfootlips_bold.json\r\n",
      "├── task-fingerfootlips_events.tsv\r\n",
      "├── task-linebisection_bold.json\r\n",
      "├── task-overtverbgeneration_bold.json\r\n",
      "├── task-overtverbgeneration_events.tsv\r\n",
      "├── task-overtwordrepetition_bold.json\r\n",
      "└── task-overtwordrepetition_events.tsv\r\n",
      "\r\n",
      "26 directories, 24 files\r\n"
     ]
    }
   ],
   "source": [
    "! tree 'bidst/tests/data/ds114'"
   ]
  },
  {
   "cell_type": "markdown",
   "metadata": {},
   "source": [
    "# Nipype code for the same thing for comparison"
   ]
  },
  {
   "cell_type": "code",
   "execution_count": 8,
   "metadata": {
    "scrolled": false
   },
   "outputs": [
    {
     "data": {
      "text/plain": [
       "['/home/deaddy/Repos/BIDSTransformers/bidst/tests/data/ds114/sub-01/ses-retest/dwi/sub-01_ses-retest_dwi.nii.gz',\n",
       " '/home/deaddy/Repos/BIDSTransformers/bidst/tests/data/ds114/sub-02/ses-retest/dwi/sub-02_ses-retest_dwi.nii.gz']"
      ]
     },
     "execution_count": 8,
     "metadata": {},
     "output_type": "execute_result"
    }
   ],
   "source": [
    "if os.path.exists(project_root + '/derivatives'):\n",
    "    rmtree(project_root + '/derivatives')\n",
    "\n",
    "def get_sub_ses_type(file_path):\n",
    "    dirname = os.path.dirname(file_path)\n",
    "    sub_ses_type = dirname.split('/')[-3:]\n",
    "    sub_ses_type = '/'.join(sub_ses_type)\n",
    "    return sub_ses_type\n",
    "\n",
    "\n",
    "def get_roi_filename(file_path):\n",
    "    basename = os.path.basename(file_path)\n",
    "    no_ext_name = os.path.splitext(basename)[0]\n",
    "    no_ext_name = os.path.splitext(no_ext_name)[0]\n",
    "    no_ext_name += '_label-B0_roi'\n",
    "    normal_name = no_ext_name + '.nii.gz'\n",
    "    return normal_name\n",
    "\n",
    "\n",
    "def get_bet_filename(file_path):\n",
    "    basename = os.path.basename(file_path)\n",
    "    no_ext_name = os.path.splitext(basename)[0]\n",
    "    no_ext_name = os.path.splitext(no_ext_name)[0]\n",
    "    no_ext_name += '_brain'\n",
    "    normal_name = no_ext_name + '.nii.gz'\n",
    "    return normal_name    \n",
    "\n",
    "layout = BIDSLayout(project_root)\n",
    "files = layout.get(subject='0[12]', session='retest')\n",
    "file_paths = [f.filename for f in files]\n",
    "file_paths"
   ]
  },
  {
   "cell_type": "code",
   "execution_count": 9,
   "metadata": {},
   "outputs": [
    {
     "name": "stdout",
     "output_type": "stream",
     "text": [
      "\u001b[01;34mbidst/tests/data/ds114\u001b[00m\r\n",
      "├── dataset_description.json\r\n",
      "├── dwi.bval\r\n",
      "├── dwi.bvec\r\n",
      "├── \u001b[01;34msub-01\u001b[00m\r\n",
      "│   ├── \u001b[01;34mses-retest\u001b[00m\r\n",
      "│   │   └── \u001b[01;34mdwi\u001b[00m\r\n",
      "│   │       └── \u001b[01;31msub-01_ses-retest_dwi.nii.gz\u001b[00m\r\n",
      "│   └── \u001b[01;34mses-test\u001b[00m\r\n",
      "│       └── \u001b[01;34mdwi\u001b[00m\r\n",
      "│           └── \u001b[01;31msub-01_ses-test_dwi.nii.gz\u001b[00m\r\n",
      "├── \u001b[01;34msub-02\u001b[00m\r\n",
      "│   ├── \u001b[01;34mses-retest\u001b[00m\r\n",
      "│   │   └── \u001b[01;34mdwi\u001b[00m\r\n",
      "│   │       └── \u001b[01;31msub-02_ses-retest_dwi.nii.gz\u001b[00m\r\n",
      "│   └── \u001b[01;34mses-test\u001b[00m\r\n",
      "│       └── \u001b[01;34mdwi\u001b[00m\r\n",
      "│           └── \u001b[01;31msub-02_ses-test_dwi.nii.gz\u001b[00m\r\n",
      "├── \u001b[01;34msub-03\u001b[00m\r\n",
      "│   ├── \u001b[01;34mses-retest\u001b[00m\r\n",
      "│   │   └── \u001b[01;34mdwi\u001b[00m\r\n",
      "│   │       └── \u001b[01;31msub-03_ses-retest_dwi.nii.gz\u001b[00m\r\n",
      "│   └── \u001b[01;34mses-test\u001b[00m\r\n",
      "│       └── \u001b[01;34mdwi\u001b[00m\r\n",
      "│           └── \u001b[01;31msub-03_ses-test_dwi.nii.gz\u001b[00m\r\n",
      "├── task-covertverbgeneration_bold.json\r\n",
      "├── task-covertverbgeneration_events.tsv\r\n",
      "├── task-fingerfootlips_bold.json\r\n",
      "├── task-fingerfootlips_events.tsv\r\n",
      "├── task-linebisection_bold.json\r\n",
      "├── task-overtverbgeneration_bold.json\r\n",
      "├── task-overtverbgeneration_events.tsv\r\n",
      "├── task-overtwordrepetition_bold.json\r\n",
      "└── task-overtwordrepetition_events.tsv\r\n",
      "\r\n",
      "15 directories, 18 files\r\n"
     ]
    }
   ],
   "source": [
    "! tree 'bidst/tests/data/ds114'"
   ]
  },
  {
   "cell_type": "code",
   "execution_count": 10,
   "metadata": {},
   "outputs": [
    {
     "name": "stdout",
     "output_type": "stream",
     "text": [
      "/home/deaddy/Repos/BIDSTransformers/bidst/tests/data/ds114/derivatives/roi_bet/sub-01/ses-retest/dwi/sub-01_ses-retest_dwi_label-B0_roi.nii.gz\n",
      "/home/deaddy/Repos/BIDSTransformers/bidst/tests/data/ds114/derivatives/roi_bet/sub-01/ses-retest/dwi/sub-01_ses-retest_dwi_brain.nii.gz\n",
      "/home/deaddy/Repos/BIDSTransformers/bidst/tests/data/ds114/derivatives/roi_bet/sub-02/ses-retest/dwi/sub-02_ses-retest_dwi_label-B0_roi.nii.gz\n",
      "/home/deaddy/Repos/BIDSTransformers/bidst/tests/data/ds114/derivatives/roi_bet/sub-02/ses-retest/dwi/sub-02_ses-retest_dwi_brain.nii.gz\n"
     ]
    }
   ],
   "source": [
    "for file_path in file_paths:\n",
    "    pipeline_name = 'roi_bet'\n",
    "    sub_ses_type = get_sub_ses_type(file_path)\n",
    "    roi_path = '{}/derivatives/{}/{}'.format(project_root, pipeline_name, sub_ses_type)\n",
    "    if not os.path.exists(roi_path):\n",
    "        os.makedirs(roi_path)\n",
    "    roi_basename = get_roi_filename(file_path)\n",
    "    roi_file_path = '{}/{}'.format(roi_path, roi_basename)\n",
    "    fslroi = ExtractROI(in_file=file_path,\n",
    "                        roi_file=roi_file_path,\n",
    "                        t_min=0,\n",
    "                        t_size=1)\n",
    "    fslroi.run()\n",
    "    bet_basename = get_bet_filename(file_path)\n",
    "    bet_file_path = '{}/{}'.format(roi_path, bet_basename)\n",
    "    fslbet = BET(in_file=roi_file_path,\n",
    "                 out_file=bet_file_path)\n",
    "    fslbet.run()\n",
    "    print(roi_file_path)\n",
    "    print(bet_file_path)"
   ]
  },
  {
   "cell_type": "code",
   "execution_count": 11,
   "metadata": {},
   "outputs": [
    {
     "name": "stdout",
     "output_type": "stream",
     "text": [
      "\u001b[01;34mbidst/tests/data/ds114\u001b[00m\r\n",
      "├── dataset_description.json\r\n",
      "├── \u001b[01;34mderivatives\u001b[00m\r\n",
      "│   └── \u001b[01;34mroi_bet\u001b[00m\r\n",
      "│       ├── \u001b[01;34msub-01\u001b[00m\r\n",
      "│       │   └── \u001b[01;34mses-retest\u001b[00m\r\n",
      "│       │       └── \u001b[01;34mdwi\u001b[00m\r\n",
      "│       │           ├── \u001b[01;31msub-01_ses-retest_dwi_brain.nii.gz\u001b[00m\r\n",
      "│       │           └── \u001b[01;31msub-01_ses-retest_dwi_label-B0_roi.nii.gz\u001b[00m\r\n",
      "│       └── \u001b[01;34msub-02\u001b[00m\r\n",
      "│           └── \u001b[01;34mses-retest\u001b[00m\r\n",
      "│               └── \u001b[01;34mdwi\u001b[00m\r\n",
      "│                   ├── \u001b[01;31msub-02_ses-retest_dwi_brain.nii.gz\u001b[00m\r\n",
      "│                   └── \u001b[01;31msub-02_ses-retest_dwi_label-B0_roi.nii.gz\u001b[00m\r\n",
      "├── dwi.bval\r\n",
      "├── dwi.bvec\r\n",
      "├── \u001b[01;34msub-01\u001b[00m\r\n",
      "│   ├── \u001b[01;34mses-retest\u001b[00m\r\n",
      "│   │   └── \u001b[01;34mdwi\u001b[00m\r\n",
      "│   │       └── \u001b[01;31msub-01_ses-retest_dwi.nii.gz\u001b[00m\r\n",
      "│   └── \u001b[01;34mses-test\u001b[00m\r\n",
      "│       └── \u001b[01;34mdwi\u001b[00m\r\n",
      "│           └── \u001b[01;31msub-01_ses-test_dwi.nii.gz\u001b[00m\r\n",
      "├── \u001b[01;34msub-02\u001b[00m\r\n",
      "│   ├── \u001b[01;34mses-retest\u001b[00m\r\n",
      "│   │   └── \u001b[01;34mdwi\u001b[00m\r\n",
      "│   │       └── \u001b[01;31msub-02_ses-retest_dwi.nii.gz\u001b[00m\r\n",
      "│   └── \u001b[01;34mses-test\u001b[00m\r\n",
      "│       └── \u001b[01;34mdwi\u001b[00m\r\n",
      "│           └── \u001b[01;31msub-02_ses-test_dwi.nii.gz\u001b[00m\r\n",
      "├── \u001b[01;34msub-03\u001b[00m\r\n",
      "│   ├── \u001b[01;34mses-retest\u001b[00m\r\n",
      "│   │   └── \u001b[01;34mdwi\u001b[00m\r\n",
      "│   │       └── \u001b[01;31msub-03_ses-retest_dwi.nii.gz\u001b[00m\r\n",
      "│   └── \u001b[01;34mses-test\u001b[00m\r\n",
      "│       └── \u001b[01;34mdwi\u001b[00m\r\n",
      "│           └── \u001b[01;31msub-03_ses-test_dwi.nii.gz\u001b[00m\r\n",
      "├── task-covertverbgeneration_bold.json\r\n",
      "├── task-covertverbgeneration_events.tsv\r\n",
      "├── task-fingerfootlips_bold.json\r\n",
      "├── task-fingerfootlips_events.tsv\r\n",
      "├── task-linebisection_bold.json\r\n",
      "├── task-overtverbgeneration_bold.json\r\n",
      "├── task-overtverbgeneration_events.tsv\r\n",
      "├── task-overtwordrepetition_bold.json\r\n",
      "└── task-overtwordrepetition_events.tsv\r\n",
      "\r\n",
      "23 directories, 22 files\r\n"
     ]
    }
   ],
   "source": [
    "! tree 'bidst/tests/data/ds114'"
   ]
  },
  {
   "cell_type": "code",
   "execution_count": null,
   "metadata": {
    "collapsed": true
   },
   "outputs": [],
   "source": []
  }
 ],
 "metadata": {
  "kernelspec": {
   "display_name": "Python 3",
   "language": "python",
   "name": "python3"
  },
  "language_info": {
   "codemirror_mode": {
    "name": "ipython",
    "version": 3
   },
   "file_extension": ".py",
   "mimetype": "text/x-python",
   "name": "python",
   "nbconvert_exporter": "python",
   "pygments_lexer": "ipython3",
   "version": "3.5.1"
  }
 },
 "nbformat": 4,
 "nbformat_minor": 2
}
