{
 "cells": [
  {
   "cell_type": "code",
   "execution_count": null,
   "metadata": {},
   "outputs": [],
   "source": [
    "import os\n",
    "import sys\n",
    "\n",
    "from bids.grabbids import BIDSLayout\n",
    "from bidst.transformers import ROITransformer\n",
    "from bidst.transformers import SkullStrippingTransformer\n",
    "\n",
    "from nipype.interfaces.fsl import ExtractROI\n",
    "from nipype.interfaces.fsl import BET"
   ]
  },
  {
   "cell_type": "markdown",
   "metadata": {},
   "source": [
    "https://drive.google.com/drive/folders/0B6U5KQalulfAOXlHYkdIa25QbG8?usp=sharing\n"
   ]
  },
  {
   "cell_type": "markdown",
   "metadata": {},
   "source": [
    "https://www.dropbox.com/sh/kh5vkp5s5n6eebh/AABejlvSqHV1HhFy91r9nrT8a?dl=0"
   ]
  },
  {
   "cell_type": "markdown",
   "metadata": {},
   "source": [
    "bidst/tests/ сюда копировать для тестов"
   ]
  },
  {
   "cell_type": "markdown",
   "metadata": {},
   "source": [
    "# BIDSTransformers Example"
   ]
  },
  {
   "cell_type": "code",
   "execution_count": 4,
   "metadata": {
    "collapsed": true
   },
   "outputs": [],
   "source": [
    "project_root = os.path.abspath('bidst/tests/ds114')\n",
    "\n",
    "from shutil import rmtree\n",
    "rmtree(project_root+'/derivatives')"
   ]
  },
  {
   "cell_type": "code",
   "execution_count": null,
   "metadata": {
    "scrolled": false
   },
   "outputs": [],
   "source": [
    "from sklearn.pipeline import Pipeline\n",
    "\n",
    "\n",
    "project_root = os.path.abspath('bidst/tests/ds114')\n",
    "roi = ROITransformer(label='label',\n",
    "                     t_min=0,\n",
    "                     t_size=1,\n",
    "                     basedir=project_root)\n",
    "\n",
    "skull_str = SkullStrippingTransformer(basedir=project_root)\n",
    "\n",
    "pp = Pipeline([('roi', roi),\n",
    "               ('bet', skull_str)])\n",
    "\n",
    "temp = pp.fit_transform(X=[('01', 'test'),\n",
    "                  ('02', 'test'),\n",
    "                  ('02', 'retest'),\n",
    "                  ('03', 'retest')])"
   ]
  },
  {
   "cell_type": "markdown",
   "metadata": {},
   "source": [
    "# Nipype Example"
   ]
  },
  {
   "cell_type": "markdown",
   "metadata": {},
   "source": [
    "Типа можно сделать workflow, но здесь это избыточно."
   ]
  },
  {
   "cell_type": "markdown",
   "metadata": {},
   "source": [
    "## Defining files for preprocessing"
   ]
  },
  {
   "cell_type": "code",
   "execution_count": null,
   "metadata": {
    "scrolled": true
   },
   "outputs": [],
   "source": [
    "project_root = os.path.abspath('bidst/tests/ds114')\n",
    "layout = BIDSLayout(project_root)\n",
    "files = layout.get(extensions='dwi.nii.gz')\n",
    "file_paths = [f.filename for f in files]\n",
    "file_paths"
   ]
  },
  {
   "cell_type": "code",
   "execution_count": null,
   "metadata": {},
   "outputs": [],
   "source": [
    "import nipype.pipeline.engine as pe\n",
    "\n",
    "\n",
    "def get_sub_ses_type(file_path):\n",
    "    dirname = os.path.dirname(file_path)\n",
    "    sub_ses_type = dirname.split('/')[-3:]\n",
    "    sub_ses_type = '/'.join(sub_ses_type)\n",
    "    return sub_ses_type\n",
    "\n",
    "\n",
    "def get_roi_filename(file_path):\n",
    "    basename = os.path.basename(file_path)\n",
    "    no_ext_name = os.path.splitext(basename)[0]\n",
    "    no_ext_name = os.path.splitext(no_ext_name)[0]\n",
    "    no_ext_name += '_label-label_roi'\n",
    "    normal_name = no_ext_name + '.nii.gz'\n",
    "    return normal_name\n",
    "\n",
    "\n",
    "def get_bet_filename(file_path):\n",
    "    basename = os.path.basename(file_path)\n",
    "    no_ext_name = os.path.splitext(basename)[0]\n",
    "    no_ext_name = os.path.splitext(no_ext_name)[0]\n",
    "    no_ext_name += '_brain'\n",
    "    normal_name = no_ext_name + '.nii.gz'\n",
    "    return normal_name    \n",
    "\n",
    "for file_path in file_paths:\n",
    "    pipeline_name = 'roi_bet'\n",
    "    sub_ses_type = get_sub_ses_type(file_path)\n",
    "    roi_path = '{}/derivatives/{}/{}'.format(project_root, pipeline_name, sub_ses_type)\n",
    "    if not os.path.exists(roi_path):\n",
    "        os.makedirs(roi_path)\n",
    "    roi_basename = get_roi_filename(file_path)\n",
    "    roi_file_path = '{}/{}'.format(roi_path, roi_basename)\n",
    "    fslroi = ExtractROI(in_file=file_path,\n",
    "                        roi_file=roi_file_path,\n",
    "                        t_min=0,\n",
    "                        t_size=1)\n",
    "    fslroi.run()\n",
    "    bet_basename = get_bet_filename(file_path)\n",
    "    bet_file_path = '{}/{}'.format(roi_path, bet_basename)\n",
    "    fslbet = BET(in_file=roi_file_path,\n",
    "                 out_file=bet_file_path)\n",
    "    fslbet.run()\n",
    "    print(roi_file_path)\n",
    "    print(bet_file_path)"
   ]
  }
 ],
 "metadata": {
  "kernelspec": {
   "display_name": "Python 3",
   "language": "python",
   "name": "python3"
  },
  "language_info": {
   "codemirror_mode": {
    "name": "ipython",
    "version": 3
   },
   "file_extension": ".py",
   "mimetype": "text/x-python",
   "name": "python",
   "nbconvert_exporter": "python",
   "pygments_lexer": "ipython3",
   "version": "3.6.1"
  }
 },
 "nbformat": 4,
 "nbformat_minor": 2
}
