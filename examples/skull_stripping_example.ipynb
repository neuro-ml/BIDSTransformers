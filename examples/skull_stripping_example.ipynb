{
 "cells": [
  {
   "cell_type": "code",
   "execution_count": 4,
   "metadata": {
    "collapsed": true
   },
   "outputs": [],
   "source": [
    "import os\n",
    "import sys\n",
    "sys.path.insert(0,'..')\n",
    "\n",
    "from bidst.transformers import SkullStrippingTransformer\n",
    "from shutil import rmtree"
   ]
  },
  {
   "cell_type": "code",
   "execution_count": 2,
   "metadata": {},
   "outputs": [
    {
     "name": "stdout",
     "output_type": "stream",
     "text": [
      "../bidst/tests/data/ds114/\r\n",
      "├── sub-01\r\n",
      "│   ├── ses-retest\r\n",
      "│   │   └── anat\r\n",
      "│   │       └── sub-01_ses-retest_T1w.nii.gz\r\n",
      "│   └── ses-test\r\n",
      "│       └── anat\r\n",
      "│           └── sub-01_ses-test_T1w.nii.gz\r\n",
      "├── sub-02\r\n",
      "│   ├── ses-retest\r\n",
      "│   │   └── anat\r\n",
      "│   │       └── sub-02_ses-retest_T1w.nii.gz\r\n",
      "│   └── ses-test\r\n",
      "│       └── anat\r\n",
      "│           ├── sub-02_ses-test_T1w.nii.gz\r\n",
      "│           ├── sub-02_ses-test_T1w_mixeltype.nii.gz\r\n",
      "│           ├── sub-02_ses-test_T1w_pve_0.nii.gz\r\n",
      "│           ├── sub-02_ses-test_T1w_pve_1.nii.gz\r\n",
      "│           ├── sub-02_ses-test_T1w_pve_2.nii.gz\r\n",
      "│           ├── sub-02_ses-test_T1w_pveseg.nii.gz\r\n",
      "│           └── sub-02_ses-test_T1w_seg.nii.gz\r\n",
      "├── sub-03\r\n",
      "│   ├── ses-retest\r\n",
      "│   │   └── anat\r\n",
      "│   │       └── sub-03_ses-retest_T1w.nii.gz\r\n",
      "│   └── ses-test\r\n",
      "│       └── anat\r\n",
      "│           └── sub-03_ses-test_T1w.nii.gz\r\n",
      "└── sub-04\r\n",
      "    ├── ses-retest\r\n",
      "    │   └── anat\r\n",
      "    │       └── sub-04_ses-retest_T1w.nii.gz\r\n",
      "    └── ses-test\r\n",
      "        └── anat\r\n",
      "            └── sub-04_ses-test_T1w.nii.gz\r\n",
      "\r\n",
      "20 directories, 14 files\r\n"
     ]
    }
   ],
   "source": [
    "!tree ../bidst/tests/data/ds114/"
   ]
  },
  {
   "cell_type": "code",
   "execution_count": 3,
   "metadata": {},
   "outputs": [
    {
     "name": "stdout",
     "output_type": "stream",
     "text": [
      "/work/bidst/tests/data/ds114/derivatives/test_pipeline0_ds114/.cached/skullstripping/sub-02/ses-retest/anat/sub-02_ses-retest_T1w_brain.nii.gz\n",
      "/work/bidst/tests/data/ds114/derivatives/test_pipeline0_ds114/.cached/skullstripping/sub-02/ses-test/anat/sub-02_ses-test_T1w_brain.nii.gz\n"
     ]
    },
    {
     "data": {
      "text/plain": [
       "['02']"
      ]
     },
     "execution_count": 3,
     "metadata": {},
     "output_type": "execute_result"
    }
   ],
   "source": [
    "project_path = os.path.abspath('..') + '/bidst/tests/data/ds114'\n",
    "pipeline_name = 'test_pipeline0_ds114'\n",
    "gather_steps = ('source', dict(extensions='T1w.nii.gz'))\n",
    "\n",
    "IDS = ['02']\n",
    "\n",
    "transformer = SkullStrippingTransformer(project_path=project_path,\n",
    "                                        pipeline_name=pipeline_name,\n",
    "                                        gather_steps=gather_steps)\n",
    "transformer.fit_transform(IDS)"
   ]
  }
 ],
 "metadata": {
  "kernelspec": {
   "display_name": "Python 3",
   "language": "python",
   "name": "python3"
  },
  "language_info": {
   "codemirror_mode": {
    "name": "ipython",
    "version": 3
   },
   "file_extension": ".py",
   "mimetype": "text/x-python",
   "name": "python",
   "nbconvert_exporter": "python",
   "pygments_lexer": "ipython3",
   "version": "3.6.1"
  }
 },
 "nbformat": 4,
 "nbformat_minor": 2
}
