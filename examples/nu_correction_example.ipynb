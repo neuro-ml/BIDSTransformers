{
 "cells": [
  {
   "cell_type": "code",
   "execution_count": 1,
   "metadata": {
    "collapsed": true
   },
   "outputs": [],
   "source": [
    "import os\n",
    "import sys\n",
    "sys.path.insert(0,'..')\n",
    "\n",
    "from bidst.transformers import NUCorrectionTransformer"
   ]
  },
  {
   "cell_type": "code",
   "execution_count": 2,
   "metadata": {},
   "outputs": [
    {
     "name": "stdout",
     "output_type": "stream",
     "text": [
      "\u001b[01;34m../bidst/tests/data/ds114/\u001b[00m\r\n",
      "├── \u001b[01;34mderivatives\u001b[00m\r\n",
      "│   └── \u001b[01;34mtest_pipeline\u001b[00m\r\n",
      "│       └── \u001b[01;34msteps\u001b[00m\r\n",
      "│           ├── \u001b[01;34mskullstripping\u001b[00m\r\n",
      "│           │   ├── \u001b[01;34msub-02\u001b[00m\r\n",
      "│           │   │   ├── \u001b[01;34mses-retest\u001b[00m\r\n",
      "│           │   │   │   └── \u001b[01;34manat\u001b[00m\r\n",
      "│           │   │   │       ├── \u001b[01;31msub-02_ses-retest_T1w_brain.nii.gz\u001b[00m\r\n",
      "│           │   │   │       └── \u001b[01;31msub-02_ses-retest_T1w.nii.gz\u001b[00m\r\n",
      "│           │   │   └── \u001b[01;34mses-test\u001b[00m\r\n",
      "│           │   │       └── \u001b[01;34manat\u001b[00m\r\n",
      "│           │   │           └── \u001b[01;31msub-02_ses-test_T1w_brain.nii.gz\u001b[00m\r\n",
      "│           │   └── \u001b[01;34msub-03\u001b[00m\r\n",
      "│           │       ├── \u001b[01;34mses-retest\u001b[00m\r\n",
      "│           │       │   └── \u001b[01;34manat\u001b[00m\r\n",
      "│           │       │       └── \u001b[01;31msub-03_ses-retest_T1w_brain.nii.gz\u001b[00m\r\n",
      "│           │       └── \u001b[01;34mses-test\u001b[00m\r\n",
      "│           │           └── \u001b[01;34manat\u001b[00m\r\n",
      "│           │               └── \u001b[01;31msub-03_ses-test_T1w_brain.nii.gz\u001b[00m\r\n",
      "│           └── \u001b[01;34mtissuesegmentation\u001b[00m\r\n",
      "│               ├── \u001b[01;34msub-02\u001b[00m\r\n",
      "│               │   ├── \u001b[01;34mses-retest\u001b[00m\r\n",
      "│               │   │   └── \u001b[01;34manat\u001b[00m\r\n",
      "│               │   │       ├── \u001b[01;31msub-02_ses-retest_T1w_brain_class-CSF_probtissue.nii.gz\u001b[00m\r\n",
      "│               │   │       ├── \u001b[01;31msub-02_ses-retest_T1w_brain_class-GM_probtissue.nii.gz\u001b[00m\r\n",
      "│               │   │       ├── \u001b[01;31msub-02_ses-retest_T1w_brain_class-WM_probtissue.nii.gz\u001b[00m\r\n",
      "│               │   │       ├── \u001b[01;31msub-02_ses-retest_T1w_brain_mixeltype.nii.gz\u001b[00m\r\n",
      "│               │   │       ├── \u001b[01;31msub-02_ses-retest_T1w_brain_pveseg.nii.gz\u001b[00m\r\n",
      "│               │   │       └── \u001b[01;31msub-02_ses-retest_T1w_brain_seg.nii.gz\u001b[00m\r\n",
      "│               │   └── \u001b[01;34mses-test\u001b[00m\r\n",
      "│               │       └── \u001b[01;34manat\u001b[00m\r\n",
      "│               │           ├── \u001b[01;31msub-02_ses-test_T1w_brain_class-CSF_probtissue.nii.gz\u001b[00m\r\n",
      "│               │           ├── \u001b[01;31msub-02_ses-test_T1w_brain_class-GM_probtissue.nii.gz\u001b[00m\r\n",
      "│               │           ├── \u001b[01;31msub-02_ses-test_T1w_brain_class-WM_probtissue.nii.gz\u001b[00m\r\n",
      "│               │           ├── \u001b[01;31msub-02_ses-test_T1w_brain_mixeltype.nii.gz\u001b[00m\r\n",
      "│               │           ├── \u001b[01;31msub-02_ses-test_T1w_brain_pveseg.nii.gz\u001b[00m\r\n",
      "│               │           └── \u001b[01;31msub-02_ses-test_T1w_brain_seg.nii.gz\u001b[00m\r\n",
      "│               └── \u001b[01;34msub-03\u001b[00m\r\n",
      "│                   ├── \u001b[01;34mses-retest\u001b[00m\r\n",
      "│                   │   └── \u001b[01;34manat\u001b[00m\r\n",
      "│                   │       ├── \u001b[01;31msub-03_ses-retest_T1w_brain_class-CSF_probtissue.nii.gz\u001b[00m\r\n",
      "│                   │       ├── \u001b[01;31msub-03_ses-retest_T1w_brain_class-GM_probtissue.nii.gz\u001b[00m\r\n",
      "│                   │       ├── \u001b[01;31msub-03_ses-retest_T1w_brain_class-WM_probtissue.nii.gz\u001b[00m\r\n",
      "│                   │       ├── \u001b[01;31msub-03_ses-retest_T1w_brain_mixeltype.nii.gz\u001b[00m\r\n",
      "│                   │       ├── \u001b[01;31msub-03_ses-retest_T1w_brain_pveseg.nii.gz\u001b[00m\r\n",
      "│                   │       └── \u001b[01;31msub-03_ses-retest_T1w_brain_seg.nii.gz\u001b[00m\r\n",
      "│                   └── \u001b[01;34mses-test\u001b[00m\r\n",
      "│                       └── \u001b[01;34manat\u001b[00m\r\n",
      "│                           ├── \u001b[01;31msub-03_ses-test_T1w_brain_class-CSF_probtissue.nii.gz\u001b[00m\r\n",
      "│                           ├── \u001b[01;31msub-03_ses-test_T1w_brain_class-GM_probtissue.nii.gz\u001b[00m\r\n",
      "│                           ├── \u001b[01;31msub-03_ses-test_T1w_brain_class-WM_probtissue.nii.gz\u001b[00m\r\n",
      "│                           ├── \u001b[01;31msub-03_ses-test_T1w_brain_mixeltype.nii.gz\u001b[00m\r\n",
      "│                           ├── \u001b[01;31msub-03_ses-test_T1w_brain_pveseg.nii.gz\u001b[00m\r\n",
      "│                           └── \u001b[01;31msub-03_ses-test_T1w_brain_seg.nii.gz\u001b[00m\r\n",
      "├── \u001b[01;34msub-01\u001b[00m\r\n",
      "│   ├── \u001b[01;34mses-retest\u001b[00m\r\n",
      "│   │   └── \u001b[01;34manat\u001b[00m\r\n",
      "│   │       └── \u001b[01;32msub-01_ses-retest_T1w.nii.gz\u001b[00m\r\n",
      "│   └── \u001b[01;34mses-test\u001b[00m\r\n",
      "│       └── \u001b[01;34manat\u001b[00m\r\n",
      "│           └── \u001b[01;32msub-01_ses-test_T1w.nii.gz\u001b[00m\r\n",
      "├── \u001b[01;34msub-02\u001b[00m\r\n",
      "│   ├── \u001b[01;34mses-retest\u001b[00m\r\n",
      "│   │   └── \u001b[01;34manat\u001b[00m\r\n",
      "│   │       └── \u001b[01;32msub-02_ses-retest_T1w.nii.gz\u001b[00m\r\n",
      "│   └── \u001b[01;34mses-test\u001b[00m\r\n",
      "│       └── \u001b[01;34manat\u001b[00m\r\n",
      "│           └── \u001b[01;32msub-02_ses-test_T1w.nii.gz\u001b[00m\r\n",
      "├── \u001b[01;34msub-03\u001b[00m\r\n",
      "│   ├── \u001b[01;34mses-retest\u001b[00m\r\n",
      "│   │   └── \u001b[01;34manat\u001b[00m\r\n",
      "│   │       └── \u001b[01;32msub-03_ses-retest_T1w.nii.gz\u001b[00m\r\n",
      "│   └── \u001b[01;34mses-test\u001b[00m\r\n",
      "│       └── \u001b[01;34manat\u001b[00m\r\n",
      "│           └── \u001b[01;32msub-03_ses-test_T1w.nii.gz\u001b[00m\r\n",
      "└── \u001b[01;34msub-04\u001b[00m\r\n",
      "    ├── \u001b[01;34mses-retest\u001b[00m\r\n",
      "    │   └── \u001b[01;34manat\u001b[00m\r\n",
      "    │       └── \u001b[01;32msub-04_ses-retest_T1w.nii.gz\u001b[00m\r\n",
      "    └── \u001b[01;34mses-test\u001b[00m\r\n",
      "        └── \u001b[01;34manat\u001b[00m\r\n",
      "            └── \u001b[01;32msub-04_ses-test_T1w.nii.gz\u001b[00m\r\n",
      "\r\n",
      "45 directories, 37 files\r\n"
     ]
    }
   ],
   "source": [
    "!tree ../bidst/tests/data/ds114/"
   ]
  },
  {
   "cell_type": "code",
   "execution_count": 3,
   "metadata": {},
   "outputs": [
    {
     "name": "stdout",
     "output_type": "stream",
     "text": [
      "/home/nsdfyd/Sources/BIDSTransformers/bidst/tests/data/ds114/derivatives/test_nucorrection_ds114/steps/nucorrection/sub-02/ses-retest/anat/sub-02_ses-retest_T1w_nu.nii.gz\n",
      "/home/nsdfyd/Sources/BIDSTransformers/bidst/tests/data/ds114/derivatives/test_nucorrection_ds114/steps/nucorrection/sub-02/ses-test/anat/sub-02_ses-test_T1w_nu.nii.gz\n"
     ]
    },
    {
     "data": {
      "text/plain": [
       "['02']"
      ]
     },
     "execution_count": 3,
     "metadata": {},
     "output_type": "execute_result"
    }
   ],
   "source": [
    "project_path = os.path.abspath('..') + '/bidst/tests/data/ds114'\n",
    "pipeline_name = 'test_nucorrection_ds114'\n",
    "gather_steps = ('source', dict(extensions='T1w.nii.gz'))\n",
    "\n",
    "IDS = ['02']\n",
    "\n",
    "transformer = NUCorrectionTransformer(project_path=project_path,\n",
    "                                      pipeline_name=pipeline_name,\n",
    "                                      gather_steps=gather_steps)\n",
    "transformer.fit_transform(IDS)"
   ]
  }
 ],
 "metadata": {
  "kernelspec": {
   "display_name": "Python 3",
   "language": "python",
   "name": "python3"
  },
  "language_info": {
   "codemirror_mode": {
    "name": "ipython",
    "version": 3
   },
   "file_extension": ".py",
   "mimetype": "text/x-python",
   "name": "python",
   "nbconvert_exporter": "python",
   "pygments_lexer": "ipython3",
   "version": "3.6.2"
  }
 },
 "nbformat": 4,
 "nbformat_minor": 2
}
