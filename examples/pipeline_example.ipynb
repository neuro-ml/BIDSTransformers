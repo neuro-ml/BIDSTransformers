{
 "cells": [
  {
   "cell_type": "code",
   "execution_count": 1,
   "metadata": {
    "collapsed": true
   },
   "outputs": [],
   "source": [
    "import os\n",
    "import sys\n",
    "sys.path.insert(0,'..')\n",
    "\n",
    "from bidst.transformers import SkullStrippingTransformer\n",
    "from bidst.transformers import TissueSegmentation\n",
    "\n",
    "from sklearn.pipeline import Pipeline\n",
    "\n",
    "\n",
    "class BIDSPipeline(Pipeline):\n",
    "    def __init__(self, steps, pipeline_name, memory=None):\n",
    "        super().__init__(steps)\n",
    "        self.pipeline_name = pipeline_name\n",
    "        # shallow copy of steps\n",
    "        #self.steps = tosequence(steps)\n",
    "        self._validate_steps()\n",
    "        self._set_step_names()\n",
    "        self._set_pipeline_name()\n",
    "        \n",
    "        \n",
    "    def _set_step_names(self):\n",
    "        for step in self.steps:\n",
    "            #print(step)\n",
    "            step[1].transformer_name = step[0]\n",
    "                \n",
    "    def _set_pipeline_name(self):\n",
    "        for step in self.steps:\n",
    "            #print(step)\n",
    "            step[1].pipeline_name = self.pipeline_name"
   ]
  },
  {
   "cell_type": "code",
   "execution_count": 3,
   "metadata": {},
   "outputs": [
    {
     "name": "stdout",
     "output_type": "stream",
     "text": [
      "../bidst/tests/data/ds114/\r\n",
      "├── sub-01\r\n",
      "│   ├── ses-retest\r\n",
      "│   │   └── anat\r\n",
      "│   │       └── sub-01_ses-retest_T1w.nii.gz\r\n",
      "│   └── ses-test\r\n",
      "│       └── anat\r\n",
      "│           └── sub-01_ses-test_T1w.nii.gz\r\n",
      "├── sub-02\r\n",
      "│   ├── ses-retest\r\n",
      "│   │   └── anat\r\n",
      "│   │       └── sub-02_ses-retest_T1w.nii.gz\r\n",
      "│   └── ses-test\r\n",
      "│       └── anat\r\n",
      "│           └── sub-02_ses-test_T1w.nii.gz\r\n",
      "├── sub-03\r\n",
      "│   ├── ses-retest\r\n",
      "│   │   └── anat\r\n",
      "│   │       └── sub-03_ses-retest_T1w.nii.gz\r\n",
      "│   └── ses-test\r\n",
      "│       └── anat\r\n",
      "│           └── sub-03_ses-test_T1w.nii.gz\r\n",
      "└── sub-04\r\n",
      "    ├── ses-retest\r\n",
      "    │   └── anat\r\n",
      "    │       └── sub-04_ses-retest_T1w.nii.gz\r\n",
      "    └── ses-test\r\n",
      "        └── anat\r\n",
      "            └── sub-04_ses-test_T1w.nii.gz\r\n",
      "\r\n",
      "20 directories, 8 files\r\n"
     ]
    }
   ],
   "source": [
    "!tree -a ../bidst/tests/data/ds114/"
   ]
  },
  {
   "cell_type": "code",
   "execution_count": 6,
   "metadata": {
    "scrolled": false
   },
   "outputs": [
    {
     "name": "stdout",
     "output_type": "stream",
     "text": [
      "/work/bidst/tests/data/ds114/derivatives/test_pipeline/.cached/skullstripping/sub-02/ses-retest/anat/sub-02_ses-retest_T1w_brain.nii.gz\n",
      "/work/bidst/tests/data/ds114/derivatives/test_pipeline/.cached/skullstripping/sub-02/ses-test/anat/sub-02_ses-test_T1w_brain.nii.gz\n",
      "Renaming filename: sub-02_ses-retest_T1w_brain_mixeltype.nii.gz\n",
      "New filename: sub-02_ses-retest_T1w_brain_mixeltype.nii.gz\n",
      "Renaming filename: sub-02_ses-retest_T1w_brain_pve_0.nii.gz\n",
      "New filename: sub-02_ses-retest_T1w_brain_class-CSF_probtissue.nii.gz\n",
      "Renaming filename: sub-02_ses-retest_T1w_brain_seg.nii.gz\n",
      "New filename: sub-02_ses-retest_T1w_brain_seg.nii.gz\n",
      "Renaming filename: sub-02_ses-retest_T1w_brain_pveseg.nii.gz\n",
      "New filename: sub-02_ses-retest_T1w_brain_pveseg.nii.gz\n",
      "Renaming filename: sub-02_ses-retest_T1w_brain_pve_1.nii.gz\n",
      "New filename: sub-02_ses-retest_T1w_brain_class-GM_probtissue.nii.gz\n",
      "Renaming filename: sub-02_ses-retest_T1w_brain_pve_2.nii.gz\n",
      "New filename: sub-02_ses-retest_T1w_brain_class-WM_probtissue.nii.gz\n",
      "Renaming filename: sub-02_ses-test_T1w_brain_mixeltype.nii.gz\n",
      "New filename: sub-02_ses-test_T1w_brain_mixeltype.nii.gz\n",
      "Renaming filename: sub-02_ses-test_T1w_brain_pve_0.nii.gz\n",
      "New filename: sub-02_ses-test_T1w_brain_class-CSF_probtissue.nii.gz\n",
      "Renaming filename: sub-02_ses-test_T1w_brain_pve_1.nii.gz\n",
      "New filename: sub-02_ses-test_T1w_brain_class-GM_probtissue.nii.gz\n",
      "Renaming filename: sub-02_ses-test_T1w_brain_seg.nii.gz\n",
      "New filename: sub-02_ses-test_T1w_brain_seg.nii.gz\n",
      "Renaming filename: sub-02_ses-test_T1w_brain_pve_2.nii.gz\n",
      "New filename: sub-02_ses-test_T1w_brain_class-WM_probtissue.nii.gz\n",
      "Renaming filename: sub-02_ses-test_T1w_brain_pveseg.nii.gz\n",
      "New filename: sub-02_ses-test_T1w_brain_pveseg.nii.gz\n"
     ]
    },
    {
     "data": {
      "text/plain": [
       "['02']"
      ]
     },
     "execution_count": 6,
     "metadata": {},
     "output_type": "execute_result"
    }
   ],
   "source": [
    "project_path = os.path.abspath('..') + '/bidst/tests/data/ds114'\n",
    "pipeline_name = 'test_pipeline'\n",
    "skullstripping = SkullStrippingTransformer(pipeline_name=pipeline_name,\n",
    "                                           project_path=project_path,\n",
    "                                           gather_steps=('source', dict(extensions='T1w.nii.gz')))\n",
    "tissuesegmentation = TissueSegmentation(pipeline_name=pipeline_name,\n",
    "                                        project_path=project_path,\n",
    "                                        gather_steps=('skullstripping', dict(extensions='T1w_brain.nii.gz')))\n",
    "\n",
    "IDS = ['02']\n",
    "\n",
    "\n",
    "pipe = BIDSPipeline(steps=[('skullstripping', skullstripping),\n",
    "                    ('tissuesegmentation', tissuesegmentation)],\n",
    "             pipeline_name=pipeline_name)\n",
    "pipe.fit_transform(IDS)"
   ]
  },
  {
   "cell_type": "code",
   "execution_count": 7,
   "metadata": {},
   "outputs": [
    {
     "name": "stdout",
     "output_type": "stream",
     "text": [
      "../bidst/tests/data/ds114/\r\n",
      "├── derivatives\r\n",
      "│   └── test_pipeline\r\n",
      "│       └── .cached\r\n",
      "│           ├── skullstripping\r\n",
      "│           │   └── sub-02\r\n",
      "│           │       ├── ses-retest\r\n",
      "│           │       │   └── anat\r\n",
      "│           │       │       └── sub-02_ses-retest_T1w_brain.nii.gz\r\n",
      "│           │       └── ses-test\r\n",
      "│           │           └── anat\r\n",
      "│           │               └── sub-02_ses-test_T1w_brain.nii.gz\r\n",
      "│           └── tissuesegmentation\r\n",
      "│               └── sub-02\r\n",
      "│                   ├── ses-retest\r\n",
      "│                   │   └── anat\r\n",
      "│                   │       ├── sub-02_ses-retest_T1w_brain_class-CSF_probtissue.nii.gz\r\n",
      "│                   │       ├── sub-02_ses-retest_T1w_brain_class-GM_probtissue.nii.gz\r\n",
      "│                   │       ├── sub-02_ses-retest_T1w_brain_class-WM_probtissue.nii.gz\r\n",
      "│                   │       ├── sub-02_ses-retest_T1w_brain_mixeltype.nii.gz\r\n",
      "│                   │       ├── sub-02_ses-retest_T1w_brain_pveseg.nii.gz\r\n",
      "│                   │       └── sub-02_ses-retest_T1w_brain_seg.nii.gz\r\n",
      "│                   └── ses-test\r\n",
      "│                       └── anat\r\n",
      "│                           ├── sub-02_ses-test_T1w_brain_class-CSF_probtissue.nii.gz\r\n",
      "│                           ├── sub-02_ses-test_T1w_brain_class-GM_probtissue.nii.gz\r\n",
      "│                           ├── sub-02_ses-test_T1w_brain_class-WM_probtissue.nii.gz\r\n",
      "│                           ├── sub-02_ses-test_T1w_brain_mixeltype.nii.gz\r\n",
      "│                           ├── sub-02_ses-test_T1w_brain_pveseg.nii.gz\r\n",
      "│                           └── sub-02_ses-test_T1w_brain_seg.nii.gz\r\n",
      "├── sub-01\r\n",
      "│   ├── ses-retest\r\n",
      "│   │   └── anat\r\n",
      "│   │       └── sub-01_ses-retest_T1w.nii.gz\r\n",
      "│   └── ses-test\r\n",
      "│       └── anat\r\n",
      "│           └── sub-01_ses-test_T1w.nii.gz\r\n",
      "├── sub-02\r\n",
      "│   ├── ses-retest\r\n",
      "│   │   └── anat\r\n",
      "│   │       └── sub-02_ses-retest_T1w.nii.gz\r\n",
      "│   └── ses-test\r\n",
      "│       └── anat\r\n",
      "│           └── sub-02_ses-test_T1w.nii.gz\r\n",
      "├── sub-03\r\n",
      "│   ├── ses-retest\r\n",
      "│   │   └── anat\r\n",
      "│   │       └── sub-03_ses-retest_T1w.nii.gz\r\n",
      "│   └── ses-test\r\n",
      "│       └── anat\r\n",
      "│           └── sub-03_ses-test_T1w.nii.gz\r\n",
      "└── sub-04\r\n",
      "    ├── ses-retest\r\n",
      "    │   └── anat\r\n",
      "    │       └── sub-04_ses-retest_T1w.nii.gz\r\n",
      "    └── ses-test\r\n",
      "        └── anat\r\n",
      "            └── sub-04_ses-test_T1w.nii.gz\r\n",
      "\r\n",
      "35 directories, 22 files\r\n"
     ]
    }
   ],
   "source": [
    "!tree -a ../bidst/tests/data/ds114/"
   ]
  }
 ],
 "metadata": {
  "kernelspec": {
   "display_name": "Python 3",
   "language": "python",
   "name": "python3"
  },
  "language_info": {
   "codemirror_mode": {
    "name": "ipython",
    "version": 3
   },
   "file_extension": ".py",
   "mimetype": "text/x-python",
   "name": "python",
   "nbconvert_exporter": "python",
   "pygments_lexer": "ipython3",
   "version": "3.6.1"
  }
 },
 "nbformat": 4,
 "nbformat_minor": 2
}
