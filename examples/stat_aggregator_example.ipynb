{
 "cells": [
  {
   "cell_type": "code",
   "execution_count": 1,
   "metadata": {},
   "outputs": [],
   "source": [
    "import os\n",
    "import sys\n",
    "sys.path.insert(0,'..')\n",
    "\n",
    "from bidst.transformers import StatAggregator"
   ]
  },
  {
   "cell_type": "code",
   "execution_count": 2,
   "metadata": {},
   "outputs": [
    {
     "name": "stdout",
     "output_type": "stream",
     "text": [
      "../bidst/tests/data/ds114/\r\n",
      "├── derivatives\r\n",
      "│   └── test_pipeline\r\n",
      "│       └── steps\r\n",
      "│           ├── skullstripping\r\n",
      "│           │   └── sub-02\r\n",
      "│           │       ├── ses-retest\r\n",
      "│           │       │   └── anat\r\n",
      "│           │       │       ├── sub-02_ses-retest_T1w.nii.gz\r\n",
      "│           │       │       └── sub-02_ses-retest_T1w_brain.nii.gz\r\n",
      "│           │       └── ses-test\r\n",
      "│           │           └── anat\r\n",
      "│           │               └── sub-02_ses-test_T1w_brain.nii.gz\r\n",
      "│           └── tissuesegmentation\r\n",
      "│               └── sub-02\r\n",
      "│                   ├── ses-retest\r\n",
      "│                   │   └── anat\r\n",
      "│                   │       ├── sub-02_ses-retest_T1w_brain_class-CSF_probtissue.nii.gz\r\n",
      "│                   │       ├── sub-02_ses-retest_T1w_brain_class-GM_probtissue.nii.gz\r\n",
      "│                   │       ├── sub-02_ses-retest_T1w_brain_class-WM_probtissue.nii.gz\r\n",
      "│                   │       ├── sub-02_ses-retest_T1w_brain_mixeltype.nii.gz\r\n",
      "│                   │       ├── sub-02_ses-retest_T1w_brain_pveseg.nii.gz\r\n",
      "│                   │       └── sub-02_ses-retest_T1w_brain_seg.nii.gz\r\n",
      "│                   └── ses-test\r\n",
      "│                       └── anat\r\n",
      "│                           ├── sub-02_ses-test_T1w_brain_class-CSF_probtissue.nii.gz\r\n",
      "│                           ├── sub-02_ses-test_T1w_brain_class-GM_probtissue.nii.gz\r\n",
      "│                           ├── sub-02_ses-test_T1w_brain_class-WM_probtissue.nii.gz\r\n",
      "│                           ├── sub-02_ses-test_T1w_brain_mixeltype.nii.gz\r\n",
      "│                           ├── sub-02_ses-test_T1w_brain_pveseg.nii.gz\r\n",
      "│                           └── sub-02_ses-test_T1w_brain_seg.nii.gz\r\n",
      "├── sub-01\r\n",
      "│   ├── ses-retest\r\n",
      "│   │   └── anat\r\n",
      "│   │       └── sub-01_ses-retest_T1w.nii.gz\r\n",
      "│   └── ses-test\r\n",
      "│       └── anat\r\n",
      "│           └── sub-01_ses-test_T1w.nii.gz\r\n",
      "├── sub-02\r\n",
      "│   ├── ses-retest\r\n",
      "│   │   └── anat\r\n",
      "│   │       └── sub-02_ses-retest_T1w.nii.gz\r\n",
      "│   └── ses-test\r\n",
      "│       └── anat\r\n",
      "│           └── sub-02_ses-test_T1w.nii.gz\r\n",
      "├── sub-03\r\n",
      "│   ├── ses-retest\r\n",
      "│   │   └── anat\r\n",
      "│   │       └── sub-03_ses-retest_T1w.nii.gz\r\n",
      "│   └── ses-test\r\n",
      "│       └── anat\r\n",
      "│           └── sub-03_ses-test_T1w.nii.gz\r\n",
      "└── sub-04\r\n",
      "    ├── ses-retest\r\n",
      "    │   └── anat\r\n",
      "    │       └── sub-04_ses-retest_T1w.nii.gz\r\n",
      "    └── ses-test\r\n",
      "        └── anat\r\n",
      "            └── sub-04_ses-test_T1w.nii.gz\r\n",
      "\r\n",
      "35 directories, 23 files\r\n"
     ]
    }
   ],
   "source": [
    "!tree -a ../bidst/tests/data/ds114/"
   ]
  },
  {
   "cell_type": "code",
   "execution_count": 3,
   "metadata": {},
   "outputs": [],
   "source": [
    "import nibabel as nib\n",
    "from functools import reduce\n",
    "from operator import mul\n",
    "\n",
    "def get_tissue_stats(subject_folder):\n",
    "    \n",
    "    ext_dict = {}\n",
    "    ext_dict['WM_volume'] = 'WM_probtissue'\n",
    "    ext_dict['GM_volume'] = 'GM_probtissue'\n",
    "    ext_dict['CSF_volume'] = 'CSF_probtissue'\n",
    "    \n",
    "    files_list = os.listdir(subject_folder)\n",
    "    \n",
    "    results = {}\n",
    "    for key in ext_dict.keys():\n",
    "        cur_file = [item for item in files_list if ext_dict[key] in item]\n",
    "        if len(cur_file) > 1:\n",
    "            raise ValueError('Several candiadates in the folder')\n",
    "        else:\n",
    "            cur_file = cur_file[0]\n",
    "        cur_img = nib.load(subject_folder + '/' + cur_file)\n",
    "        voxel_sum = cur_img.get_data()\n",
    "        voxel_sum = (voxel_sum >= 0.5).sum()\n",
    "        voxel_vol = reduce(mul, cur_img.header.get_zooms())\n",
    "        all_vol = voxel_sum * voxel_vol\n",
    "        results[key] = all_vol\n",
    "    \n",
    "    return results"
   ]
  },
  {
   "cell_type": "code",
   "execution_count": 4,
   "metadata": {},
   "outputs": [
    {
     "name": "stdout",
     "output_type": "stream",
     "text": [
      "SUBJECT 02\n",
      "{'extensions': 'WM_probtissue.nii.gz'}\n",
      "[File(filename='/work/bidst/tests/data/ds114/derivatives/test_pipeline/steps/tissuesegmentation/sub-02/ses-retest/anat/sub-02_ses-retest_T1w_brain_class-WM_probtissue.nii.gz', subject='02', session='retest', type='probtissue', modality='anat'), File(filename='/work/bidst/tests/data/ds114/derivatives/test_pipeline/steps/tissuesegmentation/sub-02/ses-test/anat/sub-02_ses-test_T1w_brain_class-WM_probtissue.nii.gz', subject='02', session='test', type='probtissue', modality='anat')]\n",
      "in_file File(filename='/work/bidst/tests/data/ds114/derivatives/test_pipeline/steps/tissuesegmentation/sub-02/ses-retest/anat/sub-02_ses-retest_T1w_brain_class-WM_probtissue.nii.gz', subject='02', session='retest', type='probtissue', modality='anat')\n",
      "session retest\n",
      "path /work/bidst/tests/data/ds114/derivatives/test_pipeline/steps/tissuesegmentation/sub-02/ses-retest/anat\n",
      "in_file File(filename='/work/bidst/tests/data/ds114/derivatives/test_pipeline/steps/tissuesegmentation/sub-02/ses-test/anat/sub-02_ses-test_T1w_brain_class-WM_probtissue.nii.gz', subject='02', session='test', type='probtissue', modality='anat')\n",
      "session test\n",
      "path /work/bidst/tests/data/ds114/derivatives/test_pipeline/steps/tissuesegmentation/sub-02/ses-test/anat\n"
     ]
    },
    {
     "data": {
      "text/html": [
       "<div>\n",
       "<style>\n",
       "    .dataframe thead tr:only-child th {\n",
       "        text-align: right;\n",
       "    }\n",
       "\n",
       "    .dataframe thead th {\n",
       "        text-align: left;\n",
       "    }\n",
       "\n",
       "    .dataframe tbody tr th {\n",
       "        vertical-align: top;\n",
       "    }\n",
       "</style>\n",
       "<table border=\"1\" class=\"dataframe\">\n",
       "  <thead>\n",
       "    <tr style=\"text-align: right;\">\n",
       "      <th></th>\n",
       "      <th></th>\n",
       "      <th>CSF_volume</th>\n",
       "      <th>GM_volume</th>\n",
       "      <th>WM_volume</th>\n",
       "    </tr>\n",
       "  </thead>\n",
       "  <tbody>\n",
       "    <tr>\n",
       "      <th rowspan=\"2\" valign=\"top\">02</th>\n",
       "      <th>retest</th>\n",
       "      <td>247122.684898</td>\n",
       "      <td>449870.986028</td>\n",
       "      <td>468183.542938</td>\n",
       "    </tr>\n",
       "    <tr>\n",
       "      <th>test</th>\n",
       "      <td>235231.048205</td>\n",
       "      <td>411737.814129</td>\n",
       "      <td>440105.344166</td>\n",
       "    </tr>\n",
       "  </tbody>\n",
       "</table>\n",
       "</div>"
      ],
      "text/plain": [
       "              CSF_volume      GM_volume      WM_volume\n",
       "02 retest  247122.684898  449870.986028  468183.542938\n",
       "   test    235231.048205  411737.814129  440105.344166"
      ]
     },
     "execution_count": 4,
     "metadata": {},
     "output_type": "execute_result"
    }
   ],
   "source": [
    "project_path = os.path.abspath('..') + '/bidst/tests/data/ds114'\n",
    "pipeline_name = 'test_pipeline0_ds114'\n",
    "gather_steps = ('tissuesegmentation', dict(extensions='WM_probtissue.nii.gz'))\n",
    "\n",
    "IDS = ['02']\n",
    "\n",
    "transformer = StatAggregator(function=get_tissue_stats,\n",
    "    project_path=project_path,\n",
    "                                        pipeline_name=pipeline_name,\n",
    "                                        gather_steps=gather_steps)\n",
    "transformer.fit_transform(IDS)"
   ]
  },
  {
   "cell_type": "code",
   "execution_count": 5,
   "metadata": {
    "collapsed": true
   },
   "outputs": [],
   "source": [
    "from bids.grabbids import BIDSLayout\n",
    "\n",
    "layout = BIDSLayout('/work/bidst/tests/data/ds114/')"
   ]
  },
  {
   "cell_type": "code",
   "execution_count": 6,
   "metadata": {},
   "outputs": [
    {
     "data": {
      "text/plain": [
       "[File(filename='/work/bidst/tests/data/ds114/derivatives/test_pipeline/steps/tissuesegmentation/sub-02/ses-retest/anat/sub-02_ses-retest_T1w_brain_class-WM_probtissue.nii.gz', subject='02', session='retest', type='probtissue', modality='anat'),\n",
       " File(filename='/work/bidst/tests/data/ds114/derivatives/test_pipeline/steps/tissuesegmentation/sub-02/ses-test/anat/sub-02_ses-test_T1w_brain_class-WM_probtissue.nii.gz', subject='02', session='test', type='probtissue', modality='anat')]"
      ]
     },
     "execution_count": 6,
     "metadata": {},
     "output_type": "execute_result"
    }
   ],
   "source": [
    "layout.get(extensions = 'WM_probtissue.nii.gz', subject = '02')"
   ]
  },
  {
   "cell_type": "code",
   "execution_count": 7,
   "metadata": {},
   "outputs": [
    {
     "name": "stdout",
     "output_type": "stream",
     "text": [
      "../bidst/tests/data/ds114/\r\n",
      "├── derivatives\r\n",
      "│   └── test_pipeline\r\n",
      "│       └── steps\r\n",
      "│           ├── skullstripping\r\n",
      "│           │   └── sub-02\r\n",
      "│           │       ├── ses-retest\r\n",
      "│           │       │   └── anat\r\n",
      "│           │       │       ├── sub-02_ses-retest_T1w.nii.gz\r\n",
      "│           │       │       └── sub-02_ses-retest_T1w_brain.nii.gz\r\n",
      "│           │       └── ses-test\r\n",
      "│           │           └── anat\r\n",
      "│           │               └── sub-02_ses-test_T1w_brain.nii.gz\r\n",
      "│           └── tissuesegmentation\r\n",
      "│               └── sub-02\r\n",
      "│                   ├── ses-retest\r\n",
      "│                   │   └── anat\r\n",
      "│                   │       ├── sub-02_ses-retest_T1w_brain_class-CSF_probtissue.nii.gz\r\n",
      "│                   │       ├── sub-02_ses-retest_T1w_brain_class-GM_probtissue.nii.gz\r\n",
      "│                   │       ├── sub-02_ses-retest_T1w_brain_class-WM_probtissue.nii.gz\r\n",
      "│                   │       ├── sub-02_ses-retest_T1w_brain_mixeltype.nii.gz\r\n",
      "│                   │       ├── sub-02_ses-retest_T1w_brain_pveseg.nii.gz\r\n",
      "│                   │       └── sub-02_ses-retest_T1w_brain_seg.nii.gz\r\n",
      "│                   └── ses-test\r\n",
      "│                       └── anat\r\n",
      "│                           ├── sub-02_ses-test_T1w_brain_class-CSF_probtissue.nii.gz\r\n",
      "│                           ├── sub-02_ses-test_T1w_brain_class-GM_probtissue.nii.gz\r\n",
      "│                           ├── sub-02_ses-test_T1w_brain_class-WM_probtissue.nii.gz\r\n",
      "│                           ├── sub-02_ses-test_T1w_brain_mixeltype.nii.gz\r\n",
      "│                           ├── sub-02_ses-test_T1w_brain_pveseg.nii.gz\r\n",
      "│                           └── sub-02_ses-test_T1w_brain_seg.nii.gz\r\n",
      "├── sub-01\r\n",
      "│   ├── ses-retest\r\n",
      "│   │   └── anat\r\n",
      "│   │       └── sub-01_ses-retest_T1w.nii.gz\r\n",
      "│   └── ses-test\r\n",
      "│       └── anat\r\n",
      "│           └── sub-01_ses-test_T1w.nii.gz\r\n",
      "├── sub-02\r\n",
      "│   ├── ses-retest\r\n",
      "│   │   └── anat\r\n",
      "│   │       └── sub-02_ses-retest_T1w.nii.gz\r\n",
      "│   └── ses-test\r\n",
      "│       └── anat\r\n",
      "│           └── sub-02_ses-test_T1w.nii.gz\r\n",
      "├── sub-03\r\n",
      "│   ├── ses-retest\r\n",
      "│   │   └── anat\r\n",
      "│   │       └── sub-03_ses-retest_T1w.nii.gz\r\n",
      "│   └── ses-test\r\n",
      "│       └── anat\r\n",
      "│           └── sub-03_ses-test_T1w.nii.gz\r\n",
      "└── sub-04\r\n",
      "    ├── ses-retest\r\n",
      "    │   └── anat\r\n",
      "    │       └── sub-04_ses-retest_T1w.nii.gz\r\n",
      "    └── ses-test\r\n",
      "        └── anat\r\n",
      "            └── sub-04_ses-test_T1w.nii.gz\r\n",
      "\r\n",
      "35 directories, 23 files\r\n"
     ]
    }
   ],
   "source": [
    "!tree -a ../bidst/tests/data/ds114/"
   ]
  }
 ],
 "metadata": {
  "kernelspec": {
   "display_name": "Python 3",
   "language": "python",
   "name": "python3"
  },
  "language_info": {
   "codemirror_mode": {
    "name": "ipython",
    "version": 3
   },
   "file_extension": ".py",
   "mimetype": "text/x-python",
   "name": "python",
   "nbconvert_exporter": "python",
   "pygments_lexer": "ipython3",
   "version": "3.6.1"
  }
 },
 "nbformat": 4,
 "nbformat_minor": 2
}
