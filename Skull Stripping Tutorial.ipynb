{
 "cells": [
  {
   "cell_type": "code",
   "execution_count": 1,
   "metadata": {},
   "outputs": [],
   "source": [
    "import os\n",
    "from bidst.transformers import SkullStrippingTransformer"
   ]
  },
  {
   "cell_type": "markdown",
   "metadata": {},
   "source": [
    "# Dataset"
   ]
  },
  {
   "cell_type": "markdown",
   "metadata": {},
   "source": [
    "There we have a dataset of T1w (and another) images with two sessions: 'test' and 'retest'."
   ]
  },
  {
   "cell_type": "code",
   "execution_count": 2,
   "metadata": {
    "scrolled": false
   },
   "outputs": [
    {
     "name": "stdout",
     "output_type": "stream",
     "text": [
      "\u001b[01;34mbidst/tests/data/ds114/\u001b[00m\r\n",
      "├── \u001b[01;34msub-01\u001b[00m\r\n",
      "│   ├── \u001b[01;34mses-retest\u001b[00m\r\n",
      "│   │   └── \u001b[01;34manat\u001b[00m\r\n",
      "│   │       └── \u001b[01;32msub-01_ses-retest_T1w.nii.gz\u001b[00m\r\n",
      "│   └── \u001b[01;34mses-test\u001b[00m\r\n",
      "│       └── \u001b[01;34manat\u001b[00m\r\n",
      "│           └── \u001b[01;32msub-01_ses-test_T1w.nii.gz\u001b[00m\r\n",
      "├── \u001b[01;34msub-02\u001b[00m\r\n",
      "│   ├── \u001b[01;34mses-retest\u001b[00m\r\n",
      "│   │   └── \u001b[01;34manat\u001b[00m\r\n",
      "│   │       └── \u001b[01;32msub-02_ses-retest_T1w.nii.gz\u001b[00m\r\n",
      "│   └── \u001b[01;34mses-test\u001b[00m\r\n",
      "│       └── \u001b[01;34manat\u001b[00m\r\n",
      "│           └── \u001b[01;32msub-02_ses-test_T1w.nii.gz\u001b[00m\r\n",
      "├── \u001b[01;34msub-03\u001b[00m\r\n",
      "│   ├── \u001b[01;34mses-retest\u001b[00m\r\n",
      "│   │   └── \u001b[01;34manat\u001b[00m\r\n",
      "│   │       └── \u001b[01;32msub-03_ses-retest_T1w.nii.gz\u001b[00m\r\n",
      "│   └── \u001b[01;34mses-test\u001b[00m\r\n",
      "│       └── \u001b[01;34manat\u001b[00m\r\n",
      "│           └── \u001b[01;32msub-03_ses-test_T1w.nii.gz\u001b[00m\r\n",
      "└── \u001b[01;34msub-04\u001b[00m\r\n",
      "    ├── \u001b[01;34mses-retest\u001b[00m\r\n",
      "    │   └── \u001b[01;34manat\u001b[00m\r\n",
      "    │       └── \u001b[01;32msub-04_ses-retest_T1w.nii.gz\u001b[00m\r\n",
      "    └── \u001b[01;34mses-test\u001b[00m\r\n",
      "        └── \u001b[01;34manat\u001b[00m\r\n",
      "            └── \u001b[01;32msub-04_ses-test_T1w.nii.gz\u001b[00m\r\n",
      "\r\n",
      "20 directories, 8 files\r\n"
     ]
    }
   ],
   "source": [
    "!tree bidst/tests/data/ds114/"
   ]
  },
  {
   "cell_type": "markdown",
   "metadata": {},
   "source": [
    "# Transformation for all sessions (We use IDs only)"
   ]
  },
  {
   "cell_type": "markdown",
   "metadata": {},
   "source": [
    "There we will make skull stripping for each session and subject, i.e. transformation will be done for all T1w images."
   ]
  },
  {
   "cell_type": "code",
   "execution_count": 3,
   "metadata": {},
   "outputs": [
    {
     "data": {
      "text/plain": [
       "['01', '02', '03']"
      ]
     },
     "execution_count": 3,
     "metadata": {},
     "output_type": "execute_result"
    }
   ],
   "source": [
    "data_dir = os.path.abspath('.') + '/bidst/tests/data/ds114'\n",
    "pipeline_name = 'test_ROITransformer_ds114'\n",
    "search_param = dict(extensions='T1w.nii.gz')\n",
    "\n",
    "IDS = ['01', '02', '03']\n",
    "\n",
    "transformer = SkullStrippingTransformer(data_dir=data_dir,\n",
    "                                        pipeline_name=pipeline_name,\n",
    "                                        search_param=search_param)\n",
    "transformer.fit_transform(IDS)"
   ]
  },
  {
   "cell_type": "markdown",
   "metadata": {},
   "source": [
    "As you see a new directory called 'derivatives' was created."
   ]
  },
  {
   "cell_type": "code",
   "execution_count": 4,
   "metadata": {
    "scrolled": false
   },
   "outputs": [
    {
     "name": "stdout",
     "output_type": "stream",
     "text": [
      "\u001b[01;34mbidst/tests/data/ds114\u001b[00m\r\n",
      "├── \u001b[01;34mderivatives\u001b[00m\r\n",
      "│   └── \u001b[01;34mtest_ROITransformer_ds114\u001b[00m\r\n",
      "│       ├── \u001b[01;34msub-01\u001b[00m\r\n",
      "│       │   ├── \u001b[01;34mses-retest\u001b[00m\r\n",
      "│       │   │   └── \u001b[01;34manat\u001b[00m\r\n",
      "│       │   │       └── \u001b[01;31msub-01_ses-retest_T1w_brain.nii.gz\u001b[00m\r\n",
      "│       │   └── \u001b[01;34mses-test\u001b[00m\r\n",
      "│       │       └── \u001b[01;34manat\u001b[00m\r\n",
      "│       │           └── \u001b[01;31msub-01_ses-test_T1w_brain.nii.gz\u001b[00m\r\n",
      "│       ├── \u001b[01;34msub-02\u001b[00m\r\n",
      "│       │   ├── \u001b[01;34mses-retest\u001b[00m\r\n",
      "│       │   │   └── \u001b[01;34manat\u001b[00m\r\n",
      "│       │   │       └── \u001b[01;31msub-02_ses-retest_T1w_brain.nii.gz\u001b[00m\r\n",
      "│       │   └── \u001b[01;34mses-test\u001b[00m\r\n",
      "│       │       └── \u001b[01;34manat\u001b[00m\r\n",
      "│       │           └── \u001b[01;31msub-02_ses-test_T1w_brain.nii.gz\u001b[00m\r\n",
      "│       └── \u001b[01;34msub-03\u001b[00m\r\n",
      "│           ├── \u001b[01;34mses-retest\u001b[00m\r\n",
      "│           │   └── \u001b[01;34manat\u001b[00m\r\n",
      "│           │       └── \u001b[01;31msub-03_ses-retest_T1w_brain.nii.gz\u001b[00m\r\n",
      "│           └── \u001b[01;34mses-test\u001b[00m\r\n",
      "│               └── \u001b[01;34manat\u001b[00m\r\n",
      "│                   └── \u001b[01;31msub-03_ses-test_T1w_brain.nii.gz\u001b[00m\r\n",
      "├── \u001b[01;34msub-01\u001b[00m\r\n",
      "│   ├── \u001b[01;34mses-retest\u001b[00m\r\n",
      "│   │   └── \u001b[01;34manat\u001b[00m\r\n",
      "│   │       └── \u001b[01;32msub-01_ses-retest_T1w.nii.gz\u001b[00m\r\n",
      "│   └── \u001b[01;34mses-test\u001b[00m\r\n",
      "│       └── \u001b[01;34manat\u001b[00m\r\n",
      "│           └── \u001b[01;32msub-01_ses-test_T1w.nii.gz\u001b[00m\r\n",
      "├── \u001b[01;34msub-02\u001b[00m\r\n",
      "│   ├── \u001b[01;34mses-retest\u001b[00m\r\n",
      "│   │   └── \u001b[01;34manat\u001b[00m\r\n",
      "│   │       └── \u001b[01;32msub-02_ses-retest_T1w.nii.gz\u001b[00m\r\n",
      "│   └── \u001b[01;34mses-test\u001b[00m\r\n",
      "│       └── \u001b[01;34manat\u001b[00m\r\n",
      "│           └── \u001b[01;32msub-02_ses-test_T1w.nii.gz\u001b[00m\r\n",
      "├── \u001b[01;34msub-03\u001b[00m\r\n",
      "│   ├── \u001b[01;34mses-retest\u001b[00m\r\n",
      "│   │   └── \u001b[01;34manat\u001b[00m\r\n",
      "│   │       └── \u001b[01;32msub-03_ses-retest_T1w.nii.gz\u001b[00m\r\n",
      "│   └── \u001b[01;34mses-test\u001b[00m\r\n",
      "│       └── \u001b[01;34manat\u001b[00m\r\n",
      "│           └── \u001b[01;32msub-03_ses-test_T1w.nii.gz\u001b[00m\r\n",
      "└── \u001b[01;34msub-04\u001b[00m\r\n",
      "    ├── \u001b[01;34mses-retest\u001b[00m\r\n",
      "    │   └── \u001b[01;34manat\u001b[00m\r\n",
      "    │       └── \u001b[01;32msub-04_ses-retest_T1w.nii.gz\u001b[00m\r\n",
      "    └── \u001b[01;34mses-test\u001b[00m\r\n",
      "        └── \u001b[01;34manat\u001b[00m\r\n",
      "            └── \u001b[01;32msub-04_ses-test_T1w.nii.gz\u001b[00m\r\n",
      "\r\n",
      "37 directories, 14 files\r\n"
     ]
    }
   ],
   "source": [
    "!tree bidst/tests/data/ds114"
   ]
  },
  {
   "cell_type": "markdown",
   "metadata": {},
   "source": [
    "# Transformation for specified sessions \n",
    "# (We specify both IDs and session using tuples)"
   ]
  },
  {
   "cell_type": "markdown",
   "metadata": {},
   "source": [
    "Now we've done skullstripping for all subjects we have. If we start skull stripping for specific sessions and subjects nothing will be changed. To avoid it and see a result we'll add 'variant' tag."
   ]
  },
  {
   "cell_type": "code",
   "execution_count": 5,
   "metadata": {},
   "outputs": [
    {
     "data": {
      "text/plain": [
       "[('02', 'test'), ('03', 'test'), ('03', 'retest')]"
      ]
     },
     "execution_count": 5,
     "metadata": {},
     "output_type": "execute_result"
    }
   ],
   "source": [
    "IDS = [('02', 'test'), \n",
    "       ('03', 'test'),\n",
    "       ('03', 'retest')]\n",
    "\n",
    "transformer = SkullStrippingTransformer(data_dir=data_dir,\n",
    "                                        pipeline_name=pipeline_name,\n",
    "                                        search_param=search_param,\n",
    "                                        variant='tuples')\n",
    "transformer.fit_transform(IDS)"
   ]
  },
  {
   "cell_type": "markdown",
   "metadata": {},
   "source": [
    "As you see, new images were created with tag '_variant-tuples'."
   ]
  },
  {
   "cell_type": "code",
   "execution_count": 6,
   "metadata": {
    "scrolled": false
   },
   "outputs": [
    {
     "name": "stdout",
     "output_type": "stream",
     "text": [
      "\u001b[01;34mbidst/tests/data/ds114\u001b[00m\r\n",
      "├── \u001b[01;34mderivatives\u001b[00m\r\n",
      "│   └── \u001b[01;34mtest_ROITransformer_ds114\u001b[00m\r\n",
      "│       ├── \u001b[01;34msub-01\u001b[00m\r\n",
      "│       │   ├── \u001b[01;34mses-retest\u001b[00m\r\n",
      "│       │   │   └── \u001b[01;34manat\u001b[00m\r\n",
      "│       │   │       └── \u001b[01;31msub-01_ses-retest_T1w_brain.nii.gz\u001b[00m\r\n",
      "│       │   └── \u001b[01;34mses-test\u001b[00m\r\n",
      "│       │       └── \u001b[01;34manat\u001b[00m\r\n",
      "│       │           └── \u001b[01;31msub-01_ses-test_T1w_brain.nii.gz\u001b[00m\r\n",
      "│       ├── \u001b[01;34msub-02\u001b[00m\r\n",
      "│       │   ├── \u001b[01;34mses-retest\u001b[00m\r\n",
      "│       │   │   └── \u001b[01;34manat\u001b[00m\r\n",
      "│       │   │       └── \u001b[01;31msub-02_ses-retest_T1w_brain.nii.gz\u001b[00m\r\n",
      "│       │   └── \u001b[01;34mses-test\u001b[00m\r\n",
      "│       │       └── \u001b[01;34manat\u001b[00m\r\n",
      "│       │           ├── \u001b[01;31msub-02_ses-test_T1w_brain.nii.gz\u001b[00m\r\n",
      "│       │           └── \u001b[01;31msub-02_ses-test_T1w_variant-tuples_brain.nii.gz\u001b[00m\r\n",
      "│       └── \u001b[01;34msub-03\u001b[00m\r\n",
      "│           ├── \u001b[01;34mses-retest\u001b[00m\r\n",
      "│           │   └── \u001b[01;34manat\u001b[00m\r\n",
      "│           │       ├── \u001b[01;31msub-03_ses-retest_T1w_brain.nii.gz\u001b[00m\r\n",
      "│           │       └── \u001b[01;31msub-03_ses-retest_T1w_variant-tuples_brain.nii.gz\u001b[00m\r\n",
      "│           └── \u001b[01;34mses-test\u001b[00m\r\n",
      "│               └── \u001b[01;34manat\u001b[00m\r\n",
      "│                   ├── \u001b[01;31msub-03_ses-test_T1w_brain.nii.gz\u001b[00m\r\n",
      "│                   └── \u001b[01;31msub-03_ses-test_T1w_variant-tuples_brain.nii.gz\u001b[00m\r\n",
      "├── \u001b[01;34msub-01\u001b[00m\r\n",
      "│   ├── \u001b[01;34mses-retest\u001b[00m\r\n",
      "│   │   └── \u001b[01;34manat\u001b[00m\r\n",
      "│   │       └── \u001b[01;32msub-01_ses-retest_T1w.nii.gz\u001b[00m\r\n",
      "│   └── \u001b[01;34mses-test\u001b[00m\r\n",
      "│       └── \u001b[01;34manat\u001b[00m\r\n",
      "│           └── \u001b[01;32msub-01_ses-test_T1w.nii.gz\u001b[00m\r\n",
      "├── \u001b[01;34msub-02\u001b[00m\r\n",
      "│   ├── \u001b[01;34mses-retest\u001b[00m\r\n",
      "│   │   └── \u001b[01;34manat\u001b[00m\r\n",
      "│   │       └── \u001b[01;32msub-02_ses-retest_T1w.nii.gz\u001b[00m\r\n",
      "│   └── \u001b[01;34mses-test\u001b[00m\r\n",
      "│       └── \u001b[01;34manat\u001b[00m\r\n",
      "│           └── \u001b[01;32msub-02_ses-test_T1w.nii.gz\u001b[00m\r\n",
      "├── \u001b[01;34msub-03\u001b[00m\r\n",
      "│   ├── \u001b[01;34mses-retest\u001b[00m\r\n",
      "│   │   └── \u001b[01;34manat\u001b[00m\r\n",
      "│   │       └── \u001b[01;32msub-03_ses-retest_T1w.nii.gz\u001b[00m\r\n",
      "│   └── \u001b[01;34mses-test\u001b[00m\r\n",
      "│       └── \u001b[01;34manat\u001b[00m\r\n",
      "│           └── \u001b[01;32msub-03_ses-test_T1w.nii.gz\u001b[00m\r\n",
      "└── \u001b[01;34msub-04\u001b[00m\r\n",
      "    ├── \u001b[01;34mses-retest\u001b[00m\r\n",
      "    │   └── \u001b[01;34manat\u001b[00m\r\n",
      "    │       └── \u001b[01;32msub-04_ses-retest_T1w.nii.gz\u001b[00m\r\n",
      "    └── \u001b[01;34mses-test\u001b[00m\r\n",
      "        └── \u001b[01;34manat\u001b[00m\r\n",
      "            └── \u001b[01;32msub-04_ses-test_T1w.nii.gz\u001b[00m\r\n",
      "\r\n",
      "37 directories, 17 files\r\n"
     ]
    }
   ],
   "source": [
    "!tree bidst/tests/data/ds114"
   ]
  },
  {
   "cell_type": "markdown",
   "metadata": {},
   "source": [
    "# Tags usage and setting parameters for FSL Skull-stripping"
   ]
  },
  {
   "cell_type": "markdown",
   "metadata": {},
   "source": [
    "We use tag 'variant' to separate these transformations with different parameters or groups of subjects with sessions. For example, we want to take another subjects and session and set different FSL Skull-stripping parameters. To separate these images from previous we'll use '_variant-parameters'"
   ]
  },
  {
   "cell_type": "code",
   "execution_count": 10,
   "metadata": {},
   "outputs": [
    {
     "data": {
      "text/plain": [
       "[('01', 'test'), ('01', 'retest'), ('02', 'retest')]"
      ]
     },
     "execution_count": 10,
     "metadata": {},
     "output_type": "execute_result"
    }
   ],
   "source": [
    "transform_param = dict(frac=0.7)\n",
    "\n",
    "IDS = [('01', 'test'), \n",
    "       ('01', 'retest'),\n",
    "       ('02', 'retest')]\n",
    "\n",
    "transformer = SkullStrippingTransformer(data_dir=data_dir,\n",
    "                                        pipeline_name=pipeline_name,\n",
    "                                        search_param=search_param,\n",
    "                                        transform_param=transform_param,\n",
    "                                        variant='parameters')\n",
    "transformer.fit_transform(IDS)"
   ]
  },
  {
   "cell_type": "code",
   "execution_count": 11,
   "metadata": {},
   "outputs": [
    {
     "name": "stdout",
     "output_type": "stream",
     "text": [
      "\u001b[01;34mbidst/tests/data/ds114\u001b[00m\r\n",
      "├── \u001b[01;34mderivatives\u001b[00m\r\n",
      "│   └── \u001b[01;34mtest_ROITransformer_ds114\u001b[00m\r\n",
      "│       ├── \u001b[01;34msub-01\u001b[00m\r\n",
      "│       │   ├── \u001b[01;34mses-retest\u001b[00m\r\n",
      "│       │   │   └── \u001b[01;34manat\u001b[00m\r\n",
      "│       │   │       ├── \u001b[01;31msub-01_ses-retest_T1w_brain.nii.gz\u001b[00m\r\n",
      "│       │   │       └── \u001b[01;31msub-01_ses-retest_T1w_variant-parameters_brain.nii.gz\u001b[00m\r\n",
      "│       │   └── \u001b[01;34mses-test\u001b[00m\r\n",
      "│       │       └── \u001b[01;34manat\u001b[00m\r\n",
      "│       │           ├── \u001b[01;31msub-01_ses-test_T1w_brain.nii.gz\u001b[00m\r\n",
      "│       │           └── \u001b[01;31msub-01_ses-test_T1w_variant-parameters_brain.nii.gz\u001b[00m\r\n",
      "│       ├── \u001b[01;34msub-02\u001b[00m\r\n",
      "│       │   ├── \u001b[01;34mses-retest\u001b[00m\r\n",
      "│       │   │   └── \u001b[01;34manat\u001b[00m\r\n",
      "│       │   │       ├── \u001b[01;31msub-02_ses-retest_T1w_brain.nii.gz\u001b[00m\r\n",
      "│       │   │       └── \u001b[01;31msub-02_ses-retest_T1w_variant-parameters_brain.nii.gz\u001b[00m\r\n",
      "│       │   └── \u001b[01;34mses-test\u001b[00m\r\n",
      "│       │       └── \u001b[01;34manat\u001b[00m\r\n",
      "│       │           ├── \u001b[01;31msub-02_ses-test_T1w_brain.nii.gz\u001b[00m\r\n",
      "│       │           └── \u001b[01;31msub-02_ses-test_T1w_variant-tuples_brain.nii.gz\u001b[00m\r\n",
      "│       └── \u001b[01;34msub-03\u001b[00m\r\n",
      "│           ├── \u001b[01;34mses-retest\u001b[00m\r\n",
      "│           │   └── \u001b[01;34manat\u001b[00m\r\n",
      "│           │       ├── \u001b[01;31msub-03_ses-retest_T1w_brain.nii.gz\u001b[00m\r\n",
      "│           │       └── \u001b[01;31msub-03_ses-retest_T1w_variant-tuples_brain.nii.gz\u001b[00m\r\n",
      "│           └── \u001b[01;34mses-test\u001b[00m\r\n",
      "│               └── \u001b[01;34manat\u001b[00m\r\n",
      "│                   ├── \u001b[01;31msub-03_ses-test_T1w_brain.nii.gz\u001b[00m\r\n",
      "│                   └── \u001b[01;31msub-03_ses-test_T1w_variant-tuples_brain.nii.gz\u001b[00m\r\n",
      "├── \u001b[01;34msub-01\u001b[00m\r\n",
      "│   ├── \u001b[01;34mses-retest\u001b[00m\r\n",
      "│   │   └── \u001b[01;34manat\u001b[00m\r\n",
      "│   │       └── \u001b[01;32msub-01_ses-retest_T1w.nii.gz\u001b[00m\r\n",
      "│   └── \u001b[01;34mses-test\u001b[00m\r\n",
      "│       └── \u001b[01;34manat\u001b[00m\r\n",
      "│           └── \u001b[01;32msub-01_ses-test_T1w.nii.gz\u001b[00m\r\n",
      "├── \u001b[01;34msub-02\u001b[00m\r\n",
      "│   ├── \u001b[01;34mses-retest\u001b[00m\r\n",
      "│   │   └── \u001b[01;34manat\u001b[00m\r\n",
      "│   │       └── \u001b[01;32msub-02_ses-retest_T1w.nii.gz\u001b[00m\r\n",
      "│   └── \u001b[01;34mses-test\u001b[00m\r\n",
      "│       └── \u001b[01;34manat\u001b[00m\r\n",
      "│           └── \u001b[01;32msub-02_ses-test_T1w.nii.gz\u001b[00m\r\n",
      "├── \u001b[01;34msub-03\u001b[00m\r\n",
      "│   ├── \u001b[01;34mses-retest\u001b[00m\r\n",
      "│   │   └── \u001b[01;34manat\u001b[00m\r\n",
      "│   │       └── \u001b[01;32msub-03_ses-retest_T1w.nii.gz\u001b[00m\r\n",
      "│   └── \u001b[01;34mses-test\u001b[00m\r\n",
      "│       └── \u001b[01;34manat\u001b[00m\r\n",
      "│           └── \u001b[01;32msub-03_ses-test_T1w.nii.gz\u001b[00m\r\n",
      "└── \u001b[01;34msub-04\u001b[00m\r\n",
      "    ├── \u001b[01;34mses-retest\u001b[00m\r\n",
      "    │   └── \u001b[01;34manat\u001b[00m\r\n",
      "    │       └── \u001b[01;32msub-04_ses-retest_T1w.nii.gz\u001b[00m\r\n",
      "    └── \u001b[01;34mses-test\u001b[00m\r\n",
      "        └── \u001b[01;34manat\u001b[00m\r\n",
      "            └── \u001b[01;32msub-04_ses-test_T1w.nii.gz\u001b[00m\r\n",
      "\r\n",
      "37 directories, 20 files\r\n"
     ]
    }
   ],
   "source": [
    "!tree bidst/tests/data/ds114"
   ]
  }
 ],
 "metadata": {
  "kernelspec": {
   "display_name": "Python 3",
   "language": "python",
   "name": "python3"
  },
  "language_info": {
   "codemirror_mode": {
    "name": "ipython",
    "version": 3
   },
   "file_extension": ".py",
   "mimetype": "text/x-python",
   "name": "python",
   "nbconvert_exporter": "python",
   "pygments_lexer": "ipython3",
   "version": "3.6.1"
  }
 },
 "nbformat": 4,
 "nbformat_minor": 2
}
